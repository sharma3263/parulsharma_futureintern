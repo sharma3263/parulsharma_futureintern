{
  "nbformat": 4,
  "nbformat_minor": 0,
  "metadata": {
    "kernelspec": {
      "display_name": "Python 3",
      "language": "python",
      "name": "python3"
    },
    "language_info": {
      "codemirror_mode": {
        "name": "ipython",
        "version": 3
      },
      "file_extension": ".py",
      "mimetype": "text/x-python",
      "name": "python",
      "nbconvert_exporter": "python",
      "pygments_lexer": "ipython3",
      "version": "3.6.3"
    },
    "colab": {
      "provenance": [],
      "include_colab_link": true
    }
  },
  "cells": [
    {
      "cell_type": "markdown",
      "metadata": {
        "id": "view-in-github",
        "colab_type": "text"
      },
      "source": [
        "<a href=\"https://colab.research.google.com/github/sharma3263/parulsharma_futureintern/blob/main/K_Means_customer_segmentafor_customer_mall_(1).ipynb\" target=\"_parent\"><img src=\"https://colab.research.google.com/assets/colab-badge.svg\" alt=\"Open In Colab\"/></a>"
      ]
    },
    {
      "cell_type": "code",
      "metadata": {
        "id": "ZjzKaETf3AmV"
      },
      "source": [
        "import pandas as pd\n",
        "import numpy as np\n",
        "import matplotlib.pyplot as plt\n",
        "import seaborn as sns\n",
        "%matplotlib inline"
      ],
      "execution_count": null,
      "outputs": []
    },
    {
      "cell_type": "code",
      "metadata": {
        "id": "FHdffWlWnNPo"
      },
      "source": [
        "from google.colab import files\n",
        "files.upload()"
      ],
      "execution_count": null,
      "outputs": []
    },
    {
      "cell_type": "code",
      "metadata": {
        "id": "Ybf3nISP3Amf"
      },
      "source": [
        "customer = pd.read_csv('Mall_Customers.csv')\n",
        "print(customer.columns)"
      ],
      "execution_count": null,
      "outputs": []
    },
    {
      "cell_type": "code",
      "metadata": {
        "id": "uZxgqte3HZRS"
      },
      "source": [
        "customer.shape"
      ],
      "execution_count": null,
      "outputs": []
    },
    {
      "cell_type": "code",
      "metadata": {
        "id": "kJ9NScaV3Ams"
      },
      "source": [
        "customer.head()"
      ],
      "execution_count": null,
      "outputs": []
    },
    {
      "cell_type": "code",
      "metadata": {
        "id": "9Jp6o2JfAgP3"
      },
      "source": [
        "customer.isnull().sum()"
      ],
      "execution_count": null,
      "outputs": []
    },
    {
      "cell_type": "code",
      "metadata": {
        "id": "1dKX1JFVMbOv"
      },
      "source": [
        "customer.corr()"
      ],
      "execution_count": null,
      "outputs": []
    },
    {
      "cell_type": "code",
      "metadata": {
        "id": "17RTfUGiMfwI"
      },
      "source": [
        "#Distribution of Annnual Income\n",
        "plt.figure(figsize=(10, 6))\n",
        "sns.set(style = 'whitegrid')\n",
        "sns.distplot(customer['Annual Income (k$)'])\n",
        "plt.title('Distribution of Annual Income (k$)', fontsize = 20)\n",
        "plt.xlabel('Range of Annual Income (k$)')\n",
        "plt.ylabel('Count')"
      ],
      "execution_count": null,
      "outputs": []
    },
    {
      "cell_type": "code",
      "metadata": {
        "id": "OSzZq7QeyJ6V"
      },
      "source": [
        "#Distribution of age\n",
        "plt.figure(figsize=(10, 6))\n",
        "sns.set(style = 'whitegrid')\n",
        "sns.distplot(customer['Age'])\n",
        "plt.title('Distribution of Age', fontsize = 20)\n",
        "plt.xlabel('Range of Age')\n",
        "plt.ylabel('Count')"
      ],
      "execution_count": null,
      "outputs": []
    },
    {
      "cell_type": "code",
      "metadata": {
        "id": "U0ir844IyW4P"
      },
      "source": [
        "genders = customer.Gender.value_counts()\n",
        "sns.set_style(\"darkgrid\")\n",
        "plt.figure(figsize=(10,4))\n",
        "sns.barplot(x=genders.index, y=genders.values)\n",
        "plt.show()"
      ],
      "execution_count": null,
      "outputs": []
    },
    {
      "cell_type": "code",
      "metadata": {
        "id": "ZM-0cv6QHfEe"
      },
      "source": [
        "### Feature sleection for the model\n",
        "#Considering only 2 features (Annual income and Spending Score) and no Label available\n",
        "customer_data= customer.iloc[:, [3,4]]"
      ],
      "execution_count": null,
      "outputs": []
    },
    {
      "cell_type": "code",
      "metadata": {
        "id": "EDq0S7DadqMF"
      },
      "source": [
        "customer_data.head()"
      ],
      "execution_count": null,
      "outputs": []
    },
    {
      "cell_type": "code",
      "metadata": {
        "id": "DPu2uZID_EZP"
      },
      "source": [
        "#Scatterplot of the input data\n",
        "plt.figure(figsize=(10,6))\n",
        "sns.scatterplot(x = customer_data['Annual Income (k$)'],y = customer_data['Spending Score (1-100)'], s = 80 )\n",
        "plt.xlabel('Annual Income (k$)')\n",
        "plt.ylabel('Spending Score (1-100)')\n",
        "plt.title('Spending Score (1-100) vs Annual Income (k$)')\n",
        "plt.show()"
      ],
      "execution_count": null,
      "outputs": []
    },
    {
      "cell_type": "code",
      "metadata": {
        "id": "k4S7y51h_Pzq"
      },
      "source": [
        "#Importing KMeans from sklearn\n",
        "from sklearn.cluster import KMeans"
      ],
      "execution_count": null,
      "outputs": []
    },
    {
      "cell_type": "markdown",
      "metadata": {
        "id": "5SvIEN5fjEIb"
      },
      "source": [
        " ***Determining No. of Clusters Required***\n",
        "\n",
        "**The Elbow Method **\n",
        "\n",
        "The Elbow method runs k-means clustering on the dataset for a range of values for k (say from 1-10) and then for each value of k computes an average score for all clusters. By default, the distortion score is computed, the sum of square distances from each point to its assigned center."
      ]
    },
    {
      "cell_type": "markdown",
      "metadata": {
        "id": "3_rpGnni_r2y"
      },
      "source": [
        "Now we calculate ***the Within Cluster Sum of Squared Errors (WSS)*** for different values of k. Next, we choose the k for which WSS first starts to diminish. This value of K gives us the best number of clusters to make from the raw data."
      ]
    },
    {
      "cell_type": "code",
      "metadata": {
        "id": "cwAsM7dCibGx"
      },
      "source": [
        "from sklearn.cluster import KMeans\n",
        "wcss=[]\n",
        "for i in range(1,30):\n",
        "    km = KMeans(i)\n",
        "    km.fit(customer_data)\n",
        "    wcss.append(km.inertia_)\n",
        "np.array(wcss)"
      ],
      "execution_count": null,
      "outputs": []
    },
    {
      "cell_type": "code",
      "metadata": {
        "id": "n-fnC2QXjfcK"
      },
      "source": [
        "fig, ax = plt.subplots(figsize=(15,7))\n",
        "ax = plt.plot(range(1,30),wcss, linewidth=2, color=\"red\", marker =\"8\")\n",
        "plt.axvline(x=5, ls='--')\n",
        "plt.ylabel('WCSS')\n",
        "plt.xlabel('No. of Clusters (k)')\n",
        "plt.title('The Elbow Method', fontsize = 20)\n",
        "plt.show()"
      ],
      "execution_count": null,
      "outputs": []
    },
    {
      "cell_type": "code",
      "metadata": {
        "id": "3_RMsB14gARq"
      },
      "source": [
        "from sklearn.cluster import KMeans\n",
        "\n",
        "kms = KMeans(n_clusters=5, init='k-means++')\n",
        "kms.fit(customer_data)"
      ],
      "execution_count": null,
      "outputs": []
    },
    {
      "cell_type": "code",
      "metadata": {
        "colab": {
          "base_uri": "https://localhost:8080/",
          "height": 262
        },
        "id": "BdZ8jgzvgF7D",
        "outputId": "ca4cd2c1-6fed-4723-d3fc-384791c090ff"
      },
      "source": [
        "clusters = customer_data.copy()\n",
        "clusters['Cluster_Prediction'] = kms.fit_predict(customer_data)\n",
        "clusters.head()"
      ],
      "execution_count": null,
      "outputs": [
        {
          "output_type": "stream",
          "name": "stderr",
          "text": [
            "/usr/local/lib/python3.8/dist-packages/sklearn/cluster/_kmeans.py:870: FutureWarning: The default value of `n_init` will change from 10 to 'auto' in 1.4. Set the value of `n_init` explicitly to suppress the warning\n",
            "  warnings.warn(\n"
          ]
        },
        {
          "output_type": "execute_result",
          "data": {
            "text/plain": [
              "   Annual Income (k$)  Spending Score (1-100)  Cluster_Prediction\n",
              "0                  15                      39                   3\n",
              "1                  15                      81                   0\n",
              "2                  16                       6                   3\n",
              "3                  16                      77                   0\n",
              "4                  17                      40                   3"
            ],
            "text/html": [
              "\n",
              "  <div id=\"df-da8e0d40-9e61-4f66-9573-2f5ddb98c411\">\n",
              "    <div class=\"colab-df-container\">\n",
              "      <div>\n",
              "<style scoped>\n",
              "    .dataframe tbody tr th:only-of-type {\n",
              "        vertical-align: middle;\n",
              "    }\n",
              "\n",
              "    .dataframe tbody tr th {\n",
              "        vertical-align: top;\n",
              "    }\n",
              "\n",
              "    .dataframe thead th {\n",
              "        text-align: right;\n",
              "    }\n",
              "</style>\n",
              "<table border=\"1\" class=\"dataframe\">\n",
              "  <thead>\n",
              "    <tr style=\"text-align: right;\">\n",
              "      <th></th>\n",
              "      <th>Annual Income (k$)</th>\n",
              "      <th>Spending Score (1-100)</th>\n",
              "      <th>Cluster_Prediction</th>\n",
              "    </tr>\n",
              "  </thead>\n",
              "  <tbody>\n",
              "    <tr>\n",
              "      <th>0</th>\n",
              "      <td>15</td>\n",
              "      <td>39</td>\n",
              "      <td>3</td>\n",
              "    </tr>\n",
              "    <tr>\n",
              "      <th>1</th>\n",
              "      <td>15</td>\n",
              "      <td>81</td>\n",
              "      <td>0</td>\n",
              "    </tr>\n",
              "    <tr>\n",
              "      <th>2</th>\n",
              "      <td>16</td>\n",
              "      <td>6</td>\n",
              "      <td>3</td>\n",
              "    </tr>\n",
              "    <tr>\n",
              "      <th>3</th>\n",
              "      <td>16</td>\n",
              "      <td>77</td>\n",
              "      <td>0</td>\n",
              "    </tr>\n",
              "    <tr>\n",
              "      <th>4</th>\n",
              "      <td>17</td>\n",
              "      <td>40</td>\n",
              "      <td>3</td>\n",
              "    </tr>\n",
              "  </tbody>\n",
              "</table>\n",
              "</div>\n",
              "      <button class=\"colab-df-convert\" onclick=\"convertToInteractive('df-da8e0d40-9e61-4f66-9573-2f5ddb98c411')\"\n",
              "              title=\"Convert this dataframe to an interactive table.\"\n",
              "              style=\"display:none;\">\n",
              "        \n",
              "  <svg xmlns=\"http://www.w3.org/2000/svg\" height=\"24px\"viewBox=\"0 0 24 24\"\n",
              "       width=\"24px\">\n",
              "    <path d=\"M0 0h24v24H0V0z\" fill=\"none\"/>\n",
              "    <path d=\"M18.56 5.44l.94 2.06.94-2.06 2.06-.94-2.06-.94-.94-2.06-.94 2.06-2.06.94zm-11 1L8.5 8.5l.94-2.06 2.06-.94-2.06-.94L8.5 2.5l-.94 2.06-2.06.94zm10 10l.94 2.06.94-2.06 2.06-.94-2.06-.94-.94-2.06-.94 2.06-2.06.94z\"/><path d=\"M17.41 7.96l-1.37-1.37c-.4-.4-.92-.59-1.43-.59-.52 0-1.04.2-1.43.59L10.3 9.45l-7.72 7.72c-.78.78-.78 2.05 0 2.83L4 21.41c.39.39.9.59 1.41.59.51 0 1.02-.2 1.41-.59l7.78-7.78 2.81-2.81c.8-.78.8-2.07 0-2.86zM5.41 20L4 18.59l7.72-7.72 1.47 1.35L5.41 20z\"/>\n",
              "  </svg>\n",
              "      </button>\n",
              "      \n",
              "  <style>\n",
              "    .colab-df-container {\n",
              "      display:flex;\n",
              "      flex-wrap:wrap;\n",
              "      gap: 12px;\n",
              "    }\n",
              "\n",
              "    .colab-df-convert {\n",
              "      background-color: #E8F0FE;\n",
              "      border: none;\n",
              "      border-radius: 50%;\n",
              "      cursor: pointer;\n",
              "      display: none;\n",
              "      fill: #1967D2;\n",
              "      height: 32px;\n",
              "      padding: 0 0 0 0;\n",
              "      width: 32px;\n",
              "    }\n",
              "\n",
              "    .colab-df-convert:hover {\n",
              "      background-color: #E2EBFA;\n",
              "      box-shadow: 0px 1px 2px rgba(60, 64, 67, 0.3), 0px 1px 3px 1px rgba(60, 64, 67, 0.15);\n",
              "      fill: #174EA6;\n",
              "    }\n",
              "\n",
              "    [theme=dark] .colab-df-convert {\n",
              "      background-color: #3B4455;\n",
              "      fill: #D2E3FC;\n",
              "    }\n",
              "\n",
              "    [theme=dark] .colab-df-convert:hover {\n",
              "      background-color: #434B5C;\n",
              "      box-shadow: 0px 1px 3px 1px rgba(0, 0, 0, 0.15);\n",
              "      filter: drop-shadow(0px 1px 2px rgba(0, 0, 0, 0.3));\n",
              "      fill: #FFFFFF;\n",
              "    }\n",
              "  </style>\n",
              "\n",
              "      <script>\n",
              "        const buttonEl =\n",
              "          document.querySelector('#df-da8e0d40-9e61-4f66-9573-2f5ddb98c411 button.colab-df-convert');\n",
              "        buttonEl.style.display =\n",
              "          google.colab.kernel.accessAllowed ? 'block' : 'none';\n",
              "\n",
              "        async function convertToInteractive(key) {\n",
              "          const element = document.querySelector('#df-da8e0d40-9e61-4f66-9573-2f5ddb98c411');\n",
              "          const dataTable =\n",
              "            await google.colab.kernel.invokeFunction('convertToInteractive',\n",
              "                                                     [key], {});\n",
              "          if (!dataTable) return;\n",
              "\n",
              "          const docLinkHtml = 'Like what you see? Visit the ' +\n",
              "            '<a target=\"_blank\" href=https://colab.research.google.com/notebooks/data_table.ipynb>data table notebook</a>'\n",
              "            + ' to learn more about interactive tables.';\n",
              "          element.innerHTML = '';\n",
              "          dataTable['output_type'] = 'display_data';\n",
              "          await google.colab.output.renderOutput(dataTable, element);\n",
              "          const docLink = document.createElement('div');\n",
              "          docLink.innerHTML = docLinkHtml;\n",
              "          element.appendChild(docLink);\n",
              "        }\n",
              "      </script>\n",
              "    </div>\n",
              "  </div>\n",
              "  "
            ]
          },
          "metadata": {},
          "execution_count": 17
        }
      ]
    },
    {
      "cell_type": "code",
      "source": [
        "clusters.tail()"
      ],
      "metadata": {
        "id": "FGCO5rqnyG1K"
      },
      "execution_count": null,
      "outputs": []
    },
    {
      "cell_type": "code",
      "metadata": {
        "id": "DLHdOZ9IgYiv"
      },
      "source": [
        "kms.cluster_centers_"
      ],
      "execution_count": null,
      "outputs": []
    },
    {
      "cell_type": "code",
      "metadata": {
        "id": "jXDO7FBOgeew"
      },
      "source": [
        "fig, ax = plt.subplots(figsize=(15,7))\n",
        "plt.scatter(x=clusters[clusters['Cluster_Prediction'] == 0]['Annual Income (k$)'],\n",
        "            y=clusters[clusters['Cluster_Prediction'] == 0]['Spending Score (1-100)'],\n",
        "            s=70,edgecolor='black', linewidth=0.3, c='orange', label='Cluster 1')\n",
        "\n",
        "plt.scatter(x=clusters[clusters['Cluster_Prediction'] == 1]['Annual Income (k$)'],\n",
        "            y=clusters[clusters['Cluster_Prediction'] == 1]['Spending Score (1-100)'],\n",
        "            s=70,edgecolor='black', linewidth=0.3, c='deepskyblue', label='Cluster 2')\n",
        "\n",
        "plt.scatter(x=clusters[clusters['Cluster_Prediction'] == 2]['Annual Income (k$)'],\n",
        "            y=clusters[clusters['Cluster_Prediction'] == 2]['Spending Score (1-100)'],\n",
        "            s=70,edgecolor='black', linewidth=0.2, c='Magenta', label='Cluster 3')\n",
        "\n",
        "plt.scatter(x=clusters[clusters['Cluster_Prediction'] == 3]['Annual Income (k$)'],\n",
        "            y=clusters[clusters['Cluster_Prediction'] == 3]['Spending Score (1-100)'],\n",
        "            s=70,edgecolor='black', linewidth=0.3, c='red', label='Cluster 4')\n",
        "\n",
        "plt.scatter(x=clusters[clusters['Cluster_Prediction'] == 4]['Annual Income (k$)'],\n",
        "            y=clusters[clusters['Cluster_Prediction'] ==4]['Spending Score (1-100)'],\n",
        "            s=70,edgecolor='black', linewidth=0.3, c='lime', label='Cluster 5')\n",
        "\n",
        "plt.scatter(x=kms.cluster_centers_[:, 0], y=kms.cluster_centers_[:, 1], s = 150, c = 'yellow', label = 'Centroids',edgecolor='black', linewidth=0.3)\n",
        "plt.legend(loc='right')\n",
        "plt.xlim(0,140)\n",
        "plt.ylim(0,100)\n",
        "plt.xlabel('Annual Income (k$)')\n",
        "plt.ylabel('Spending Score (1-100)')\n",
        "plt.title('Clusters', fontsize = 20)\n",
        "plt.show()"
      ],
      "execution_count": null,
      "outputs": []
    },
    {
      "cell_type": "code",
      "metadata": {
        "id": "OOSG8z0FkzIK"
      },
      "source": [],
      "execution_count": null,
      "outputs": []
    },
    {
      "cell_type": "markdown",
      "metadata": {
        "id": "3nsll7Eyk03d"
      },
      "source": [
        "***Analysis***\n",
        "\n",
        "Analyzing Data using the above graph becomes much more easier as it gives us a visual aid for better understanding of the data. Kmeans has divided the dataset into 5 clusters based on Annual income and the spending scores of the individual customers. The following clusters are created by the model,\n",
        "\n",
        "Cluster Orange\n",
        "\n",
        "Cluster Blue\n",
        "\n",
        "Cluster Purple\n",
        "\n",
        "Cluster Red\n",
        "\n",
        "Cluster Green"
      ]
    },
    {
      "cell_type": "markdown",
      "metadata": {
        "id": "8A9TPigvlBY5"
      },
      "source": [
        "***Cluster Green - Balanced Customers :***\n",
        "\n",
        "They earn less and spend less. We can see people have low annual income and low spending scores, this is quite reasonable as people having low salaries prefer to buy less, in fact, these are the wise people who know how to spend and save money. The shops/mall will be least interested in people belonging to this cluster.\n",
        "\n",
        "***Cluster Magenta - Pinch Penny Customers*** :\n",
        "\n",
        "Earning high and spending less. We see that people have high income but low spending scores, this is interesting. Maybe these are the people who are unsatisfied or unhappy by the mall’s services. These can be the prime targets of the mall, as they have the potential to spend money. So, the mall authorities will try to add new facilities so that they can attract these people and can meet their needs.\n",
        "\n",
        "**Cluster Skyblue - Normal Customer :**\n",
        "\n",
        "Customers are average in terms of earning and spending An Average consumer in terms of spending and Annual Income we see that people have average income and an average spending score, these people again will not be the prime targets of the shops or mall, but again they will be considered and other data analysis techniques may be used to increase their spending score.\n",
        "\n",
        "**Cluster orange - Spenders :**\n",
        "\n",
        "This type of customers earns less but spends more Annual Income is less but spending high, so can also be treated as potential target customer we can see that people have low income but higher spending scores, these are those people who for some reason love to buy products more often even though they have a low income. Maybe it’s because these people are more than satisfied with the mall services. The shops/malls might not target these people that effectively but still will not lose them.\n",
        "\n",
        "***Cluster Red - Target Customers :***\n",
        "\n",
        "Earning high and also spending high Target Customers. Annual Income High as well as Spending Score is high, so a target consumer. we see that people have high income and high spending scores, this is the ideal case for the mall or shops as these people are the prime sources of profit. These people might be the regular customers of the mall and are convinced by the mall’s facilities."
      ]
    }
  ]
}